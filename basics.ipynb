{
 "cells": [
  {
   "cell_type": "code",
   "execution_count": 2,
   "metadata": {
    "collapsed": false
   },
   "outputs": [
    {
     "name": "stdout",
     "output_type": "stream",
     "text": [
      "2 3\n",
      "(2, 3)\n"
     ]
    }
   ],
   "source": [
    "a=2\n",
    "b=3\n",
    "print a, b\n",
    "a=2,3\n",
    "print a"
   ]
  },
  {
   "cell_type": "code",
   "execution_count": 3,
   "metadata": {
    "collapsed": false
   },
   "outputs": [
    {
     "name": "stdout",
     "output_type": "stream",
     "text": [
      "hi\n",
      "5\n",
      "5\n"
     ]
    }
   ],
   "source": [
    "print \"hi\"\n",
    "a = 2\n",
    "b = 3\n",
    "c = a + b\n",
    "print c\n",
    "c = a.__add__(b)\n",
    "print c"
   ]
  },
  {
   "cell_type": "code",
   "execution_count": 2,
   "metadata": {
    "collapsed": false
   },
   "outputs": [
    {
     "name": "stdout",
     "output_type": "stream",
     "text": [
      "4\n",
      "4\n",
      "3\n"
     ]
    }
   ],
   "source": [
    "import numpy as np\n",
    "a = np.array([1,2,3,4])\n",
    "print len(a)\n",
    "print max(a)\n",
    "print np.argmax(a)"
   ]
  },
  {
   "cell_type": "code",
   "execution_count": 19,
   "metadata": {
    "collapsed": false
   },
   "outputs": [
    {
     "name": "stdout",
     "output_type": "stream",
     "text": [
      "<reversed object at 0x0000000005F56CF8>\n",
      "a m h a r b\n"
     ]
    }
   ],
   "source": [
    "a = \"brahma\"\n",
    "print reversed(a)\n",
    "for c in reversed(a): print c,"
   ]
  },
  {
   "cell_type": "code",
   "execution_count": 1,
   "metadata": {
    "collapsed": false
   },
   "outputs": [],
   "source": [
    "a = [2, 5, 7, 11, 15]\n",
    "b = [1, 3, 4]\n",
    "c = [6, 8, 12, 13, 14]\n"
   ]
  },
  {
   "cell_type": "code",
   "execution_count": 6,
   "metadata": {
    "collapsed": false
   },
   "outputs": [
    {
     "name": "stdout",
     "output_type": "stream",
     "text": [
      "set(['a', ' ', 'c', 'b', 'e', 'd', 'i', 'r', 't'])\n",
      "No\n"
     ]
    }
   ],
   "source": [
    "a = \"debit card\"\n",
    "b = \"bad credit\"\n",
    "print set(a)\n",
    "for i in set(a):\n",
    "    if a.count(i) != b.count(i):\n",
    "        print \"No\""
   ]
  },
  {
   "cell_type": "code",
   "execution_count": 15,
   "metadata": {
    "collapsed": false
   },
   "outputs": [
    {
     "name": "stdout",
     "output_type": "stream",
     "text": [
      "{'a': set(['c', 'b', 'e', 'd', 'f']), 'c': set(['d']), 'b': set(['c', 'e']), 'e': set(['f']), 'd': set(['e']), 'g': set(['h', 'f']), 'f': set(['h', 'c', 'g']), 'h': set(['g', 'f'])}\n",
      "5\n"
     ]
    }
   ],
   "source": [
    "N = {\n",
    "    'a': set(('b','c','d','e','f')),\n",
    "    'b': set(('c','e')),\n",
    "    'c': set('d'),\n",
    "    'd': set('e'),\n",
    "    'e': set('f'),\n",
    "    'f': set(('c','g','h')),\n",
    "    'g': set(('f','h')),\n",
    "    'h': set(('f', 'g'))\n",
    "}\n",
    "print N\n",
    "if 'g' in N['a']:\n",
    "    print \"yes\"\n",
    "print len(N['a'])"
   ]
  },
  {
   "cell_type": "code",
   "execution_count": 17,
   "metadata": {
    "collapsed": false
   },
   "outputs": [
    {
     "name": "stdout",
     "output_type": "stream",
     "text": [
      "Yes\n",
      "5\n"
     ]
    }
   ],
   "source": [
    "a,b,c,d,e,f,g,h = range(8)\n",
    "N = [\n",
    "    [b, c, d, e, f],\n",
    "    [c, e],\n",
    "    [d],\n",
    "    [e],\n",
    "    [f],\n",
    "    [c, g, h],\n",
    "    [f, h],\n",
    "    [f, g]\n",
    "]\n",
    "if b in N[a]:\n",
    "    print \"Yes\"\n",
    "print len(N[a])"
   ]
  },
  {
   "cell_type": "code",
   "execution_count": 21,
   "metadata": {
    "collapsed": false
   },
   "outputs": [
    {
     "name": "stdout",
     "output_type": "stream",
     "text": [
      "Yes\n",
      "5\n",
      "2\n"
     ]
    }
   ],
   "source": [
    "a,b,c,d,e,f,g,h = range(8)\n",
    "N = [\n",
    "    {b:2, c:1, d:3, e:9, f:4},\n",
    "    {c:4, e:3},\n",
    "    {d:8},\n",
    "    {e:7},\n",
    "    {f:5},\n",
    "    {c:2, g:2, h:2},\n",
    "    {f:1, h:6},\n",
    "    {f:9, g:8}\n",
    "]\n",
    "if b in N[a]:\n",
    "    print \"Yes\"\n",
    "print len(N[a])\n",
    "print N[a][b]"
   ]
  },
  {
   "cell_type": "code",
   "execution_count": 25,
   "metadata": {
    "collapsed": false
   },
   "outputs": [
    {
     "name": "stdout",
     "output_type": "stream",
     "text": [
      "a\n"
     ]
    }
   ],
   "source": [
    "class Tree:\n",
    "    def __init__(self, left, right):\n",
    "        self.left = left\n",
    "        self.right = right\n",
    "t = Tree(Tree('a','b'),Tree('c','d'))\n",
    "print t.left.left"
   ]
  },
  {
   "cell_type": "code",
   "execution_count": 29,
   "metadata": {
    "collapsed": false
   },
   "outputs": [
    {
     "name": "stdout",
     "output_type": "stream",
     "text": [
      "set([1, 6])\n",
      "1\n",
      "set([6])\n",
      "6\n",
      "set([7])\n",
      "7\n",
      "set([4])\n",
      "4\n",
      "set([3])\n",
      "3\n",
      "set([])\n"
     ]
    },
    {
     "data": {
      "text/plain": [
       "{0, 2, 5}"
      ]
     },
     "execution_count": 29,
     "metadata": {},
     "output_type": "execute_result"
    }
   ],
   "source": [
    "import numpy as np\n",
    "m = [2, 2, 0, 5, 3, 5, 7, 4]\n",
    "a = set(range(len(m)))\n",
    "def brute_force(m,a):\n",
    "    if len(a)==1:\n",
    "        return a\n",
    "    b = set(m[i] for i in a)\n",
    "    c = a - b\n",
    "    print c\n",
    "    if c:\n",
    "        removed_ele=c.pop()\n",
    "        print removed_ele\n",
    "        a.remove(removed_ele)\n",
    "        return brute_force(m,a)\n",
    "    return a\n",
    "brute_force(m,a)"
   ]
  },
  {
   "cell_type": "code",
   "execution_count": 66,
   "metadata": {
    "collapsed": false
   },
   "outputs": [
    {
     "name": "stdout",
     "output_type": "stream",
     "text": [
      "[1, 6]\n",
      "[1, 0, 2, 1, 1, 2, 0, 0]\n",
      "[1, 7]\n",
      "[1, 0, 2, 1, 0, 2, 0, 0]\n",
      "[1, 4]\n",
      "[1, 0, 2, 0, 0, 2, 0, 0]\n",
      "[1, 3]\n",
      "[1, 0, 2, 0, 0, 1, 0, 0]\n",
      "[1]\n",
      "[1, 0, 1, 0, 0, 1, 0, 0]\n",
      "[]\n"
     ]
    }
   ],
   "source": [
    "m = [2, 2, 0, 5, 3, 5, 7, 4]\n",
    "a = set(range(len(m)))\n",
    "count = [m.count(i) for i in a]\n",
    "Q = [i for i in a if count[i]==0]\n",
    "print Q\n",
    "while Q:\n",
    "    i = Q.pop()\n",
    "    a.remove(i)\n",
    "    count[m[i]] -= 1\n",
    "    if(count[m[i]]==0):\n",
    "        Q.append(m[i])\n",
    "    print count\n",
    "    print Q"
   ]
  },
  {
   "cell_type": "code",
   "execution_count": 14,
   "metadata": {
    "collapsed": false
   },
   "outputs": [
    {
     "name": "stdout",
     "output_type": "stream",
     "text": [
      "set([2, 3, 4, 5])\n",
      "set([4, 5])\n",
      "set([5])\n",
      "set([5])\n"
     ]
    }
   ],
   "source": [
    "def celeb(G):\n",
    "    n = len(G)\n",
    "    persons = set(range(len(G[0])))\n",
    "    while persons:\n",
    "        if(len(persons)<=1):\n",
    "            break\n",
    "        u = persons.pop()\n",
    "        v = persons.pop()\n",
    "        if(G[u][v]==1 and G[v][u]==0):\n",
    "            persons.add(v)\n",
    "        if(G[v][u]==1 and G[u][v]==0):\n",
    "            persons.add(u)\n",
    "        print persons\n",
    "    print persons\n",
    "\n",
    "G = [[0, 0, 0, 0, 0, 0],\n",
    "     [0, 0, 1, 1, 0, 1],\n",
    "     [1, 0, 0, 1, 0, 0],\n",
    "     [0, 0, 1, 0, 1, 1],\n",
    "     [1, 0, 0, 0, 0, 1],\n",
    "     [0, 1, 0, 0, 0, 0]\n",
    "    ]\n",
    "celeb(G)"
   ]
  },
  {
   "cell_type": "code",
   "execution_count": 18,
   "metadata": {
    "collapsed": false
   },
   "outputs": [
    {
     "name": "stdout",
     "output_type": "stream",
     "text": [
      "0 2\n",
      "0 3\n",
      "0 4\n",
      "0 5\n",
      "0 6\n"
     ]
    },
    {
     "data": {
      "text/plain": [
       "0"
      ]
     },
     "execution_count": 18,
     "metadata": {},
     "output_type": "execute_result"
    }
   ],
   "source": [
    "def celeb(G):\n",
    "    n = len(G)\n",
    "    u, v = 0, 1\n",
    "    for c in range(2, n+1):\n",
    "        if G[u][v]:\n",
    "            u = c\n",
    "        else:\n",
    "            v = c\n",
    "        print u,v\n",
    "\n",
    "    if u == n: c = v\n",
    "    else: c = u\n",
    "    \n",
    "    for v in range(n):\n",
    "        if c == v: continue\n",
    "        if G[c][v]: break\n",
    "        if not G[v][c]: break\n",
    "    else:\n",
    "        return c\n",
    "    return 0\n",
    "\n",
    "G = [[0, 0, 0, 0, 0, 0],\n",
    "     [0, 0, 1, 1, 0, 1],\n",
    "     [1, 0, 0, 1, 0, 0],\n",
    "     [0, 0, 1, 0, 1, 1],\n",
    "     [1, 0, 0, 0, 0, 1],\n",
    "     [0, 1, 0, 0, 0, 0]\n",
    "    ]\n",
    "celeb(G)"
   ]
  },
  {
   "cell_type": "code",
   "execution_count": 3,
   "metadata": {
    "collapsed": false,
    "scrolled": false
   },
   "outputs": [
    {
     "name": "stdout",
     "output_type": "stream",
     "text": [
      "-----------------------------------\n",
      "point ( 0.146446609407 , 0.146446609407 )\n",
      "angle:  45.0\n",
      "areas:  0.016101924872 0.0107233047034 0.125 0.353553390593\n",
      "ans: 0.0268252295753 0.0535714285714 50.0737618739\n",
      "-----------------------------------\n",
      "point ( 0.2 , 0.1 )\n",
      "angle:  36.8698976458\n",
      "areas:  0.00956236140084 0.01 0.12 0.3\n",
      "ans: 0.0195623614008 0.0535714285714 36.5164079482\n",
      "-----------------------------------\n",
      "point ( 0.232576538583 , 0.0775255128608 )\n",
      "angle:  32.3335306935\n",
      "areas:  0.00668111467858 0.0090153077165 0.112979589711 0.267423461417\n",
      "ans: 0.0156964223951 0.0535714285714 29.2999884708\n",
      "-----------------------------------\n",
      "point ( 0.255479161795 , 0.0638697904486 )\n",
      "angle:  29.2776131904\n",
      "areas:  0.00506511348748 0.00815870026391 0.106642924406 0.244520838205\n",
      "ans: 0.0132238137514 0.0535714285714 24.6844523359\n",
      "-----------------------------------\n",
      "point ( 0.272857917292 , 0.0545715834583 )\n",
      "angle:  27.0188856274\n",
      "areas:  0.00403720793652 0.00744514430287 0.101175538231 0.227142082708\n",
      "ans: 0.0114823522394 0.0535714285714 21.4337241802\n",
      "-----------------------------------\n",
      "point ( 0.286694463637 , 0.0477824106062 )\n",
      "angle:  25.2526817459\n",
      "areas:  0.00332970527408 0.00684947629003 0.0964605154582 0.213305536363\n",
      "ans: 0.0101791815641 0.0535714285714 19.0011389197\n",
      "-----------------------------------\n",
      "point ( 0.298083982926 , 0.0425834261323 )\n",
      "angle:  23.8179570772\n",
      "areas:  0.00281542065562 0.00634671863407 0.0923597327391 0.201916017074\n",
      "ans: 0.00916213928969 0.0535714285714 17.1026600074\n",
      "-----------------------------------\n",
      "point ( 0.307692307692 , 0.0384615384615 )\n",
      "angle:  22.619864948\n",
      "areas:  0.00242625796652 0.00591715976331 0.0887573964497 0.192307692308\n",
      "ans: 0.00834341772984 0.0535714285714 15.5743797624\n",
      "-----------------------------------\n",
      "point ( 0.315952645219 , 0.0351058494688 )\n",
      "angle:  21.5981609837\n",
      "areas:  0.00212253036862 0.00554589300116 0.0855625386584 0.184047354781\n",
      "ans: 0.00766842336978 0.0535714285714 14.3143902903\n",
      "-----------------------------------\n",
      "point ( 0.323161586386 , 0.0323161586386 )\n",
      "angle:  20.7123719549\n",
      "areas:  0.00187958670347 0.00522167054578 0.0827044685792 0.176838413614\n",
      "ans: 0.00710125724925 0.0535714285714 13.2556801986\n",
      "-----------------------------------\n",
      "point ( 0.329530437057 , 0.0299573124597 )\n",
      "angle:  19.934101016\n",
      "areas:  0.00168133369746 0.00493592313396 0.0801279715095 0.170469562943\n",
      "ans: 0.00661725683141 0.0535714285714 12.352212752\n",
      "-----------------------------------\n",
      "point ( 0.335214641977 , 0.027934553498 )\n",
      "angle:  19.2427217822\n",
      "areas:  0.00151683568751 0.00468203567481 0.0777894736123 0.164785358023\n",
      "ans: 0.00619887136232 0.0535714285714 11.571226543\n",
      "-----------------------------------\n",
      "point ( 0.340331606833 , 0.0261793543718 )\n",
      "angle:  18.6228212831\n",
      "areas:  0.00137841258992 0.0044548308696 0.0756541811367 0.159668393167\n",
      "ans: 0.00583324345953 0.0535714285714 10.8887211244\n",
      "-----------------------------------\n",
      "point ( 0.344971988046 , 0.024640856289 )\n",
      "angle:  18.0626067829\n",
      "areas:  0.00126051948838 0.00425020259059 0.0736939830136 0.155028011954\n",
      "ans: 0.00551072207897 0.0535714285714 10.2866812141\n"
     ]
    }
   ],
   "source": [
    "import math\n",
    "first_area = 3.0 / (7*8)\n",
    "# print first_area\n",
    "# math.degrees(math.atan(1))\n",
    "for i in range(1,15):\n",
    "    theta = 1.0/i\n",
    "    # find the intersection points between (x-0.5)^2 + (y-0.5)^2 = (0.5)^2  and y = tan(theta)x\n",
    "    x1 = ((1 + theta) - ((2*theta)**0.5)) / (2 * (1 + theta**2))\n",
    "    y1 = theta * x1\n",
    "    \n",
    "    # find the slope of line P(x1,y1) --- C(0.5,0.5)\n",
    "    slope = (y1 - 0.5) / (x1 - 0.5)\n",
    "    \n",
    "    #angle of the arc that is formed at C , line PC and line through the center of circle\n",
    "    angle = 90 - math.degrees(math.atan(slope))\n",
    "    \n",
    "    #the area of the arc\n",
    "    area_arc = (angle/360) * math.pi * 0.25\n",
    "    \n",
    "    #area of the rectangle formed with vertical diametere and a line parallel to it that is passing though P, area=l(1/2-x1)*b(1)\n",
    "    area_rect = (0.5 - x1)\n",
    "\n",
    "    area_tri_inside = (0.5-x1)*(0.5-y1)\n",
    "    \n",
    "    # the required area can be devided into two parts 1. a triangle 3. complement of arc\n",
    "    area_curve = (area_rect - 2*area_arc - area_tri_inside)/2\n",
    "    area_tri = 0.5 * x1 * y1\n",
    "    area_req = area_tri + area_curve\n",
    "    \n",
    "    print \"ans:\", (area_req/first_area)*100"
   ]
  }
 ],
 "metadata": {
  "kernelspec": {
   "display_name": "Python 2",
   "language": "python",
   "name": "python2"
  },
  "language_info": {
   "codemirror_mode": {
    "name": "ipython",
    "version": 2
   },
   "file_extension": ".py",
   "mimetype": "text/x-python",
   "name": "python",
   "nbconvert_exporter": "python",
   "pygments_lexer": "ipython2",
   "version": "2.7.13"
  }
 },
 "nbformat": 4,
 "nbformat_minor": 0
}
