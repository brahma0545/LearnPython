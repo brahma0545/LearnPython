{
 "cells": [
  {
   "cell_type": "code",
   "execution_count": 2,
   "metadata": {
    "collapsed": false
   },
   "outputs": [
    {
     "name": "stdout",
     "output_type": "stream",
     "text": [
      "2 3\n",
      "(2, 3)\n"
     ]
    }
   ],
   "source": [
    "a=2\n",
    "b=3\n",
    "print a, b\n",
    "a=2,3\n",
    "print a"
   ]
  },
  {
   "cell_type": "code",
   "execution_count": 3,
   "metadata": {
    "collapsed": false
   },
   "outputs": [
    {
     "name": "stdout",
     "output_type": "stream",
     "text": [
      "hi\n",
      "5\n",
      "5\n"
     ]
    }
   ],
   "source": [
    "print \"hi\"\n",
    "a = 2\n",
    "b = 3\n",
    "c = a + b\n",
    "print c\n",
    "c = a.__add__(b)\n",
    "print c"
   ]
  },
  {
   "cell_type": "code",
   "execution_count": 2,
   "metadata": {
    "collapsed": false
   },
   "outputs": [
    {
     "name": "stdout",
     "output_type": "stream",
     "text": [
      "4\n",
      "4\n",
      "3\n"
     ]
    }
   ],
   "source": [
    "import numpy as np\n",
    "a = np.array([1,2,3,4])\n",
    "print len(a)\n",
    "print max(a)\n",
    "print np.argmax(a)"
   ]
  },
  {
   "cell_type": "code",
   "execution_count": 19,
   "metadata": {
    "collapsed": false
   },
   "outputs": [
    {
     "name": "stdout",
     "output_type": "stream",
     "text": [
      "<reversed object at 0x0000000005F56CF8>\n",
      "a m h a r b\n"
     ]
    }
   ],
   "source": [
    "a = \"brahma\"\n",
    "print reversed(a)\n",
    "for c in reversed(a): print c,"
   ]
  },
  {
   "cell_type": "code",
   "execution_count": 1,
   "metadata": {
    "collapsed": false
   },
   "outputs": [],
   "source": [
    "a = [2, 5, 7, 11, 15]\n",
    "b = [1, 3, 4]\n",
    "c = [6, 8, 12, 13, 14]\n"
   ]
  },
  {
   "cell_type": "code",
   "execution_count": 6,
   "metadata": {
    "collapsed": false
   },
   "outputs": [
    {
     "name": "stdout",
     "output_type": "stream",
     "text": [
      "set(['a', ' ', 'c', 'b', 'e', 'd', 'i', 'r', 't'])\n",
      "No\n"
     ]
    }
   ],
   "source": [
    "a = \"debit card\"\n",
    "b = \"bad credit\"\n",
    "print set(a)\n",
    "for i in set(a):\n",
    "    if a.count(i) != b.count(i):\n",
    "        print \"No\""
   ]
  },
  {
   "cell_type": "code",
   "execution_count": 15,
   "metadata": {
    "collapsed": false
   },
   "outputs": [
    {
     "name": "stdout",
     "output_type": "stream",
     "text": [
      "{'a': set(['c', 'b', 'e', 'd', 'f']), 'c': set(['d']), 'b': set(['c', 'e']), 'e': set(['f']), 'd': set(['e']), 'g': set(['h', 'f']), 'f': set(['h', 'c', 'g']), 'h': set(['g', 'f'])}\n",
      "5\n"
     ]
    }
   ],
   "source": [
    "N = {\n",
    "    'a': set(('b','c','d','e','f')),\n",
    "    'b': set(('c','e')),\n",
    "    'c': set('d'),\n",
    "    'd': set('e'),\n",
    "    'e': set('f'),\n",
    "    'f': set(('c','g','h')),\n",
    "    'g': set(('f','h')),\n",
    "    'h': set(('f', 'g'))\n",
    "}\n",
    "print N\n",
    "if 'g' in N['a']:\n",
    "    print \"yes\"\n",
    "print len(N['a'])"
   ]
  },
  {
   "cell_type": "code",
   "execution_count": 17,
   "metadata": {
    "collapsed": false
   },
   "outputs": [
    {
     "name": "stdout",
     "output_type": "stream",
     "text": [
      "Yes\n",
      "5\n"
     ]
    }
   ],
   "source": [
    "a,b,c,d,e,f,g,h = range(8)\n",
    "N = [\n",
    "    [b, c, d, e, f],\n",
    "    [c, e],\n",
    "    [d],\n",
    "    [e],\n",
    "    [f],\n",
    "    [c, g, h],\n",
    "    [f, h],\n",
    "    [f, g]\n",
    "]\n",
    "if b in N[a]:\n",
    "    print \"Yes\"\n",
    "print len(N[a])"
   ]
  },
  {
   "cell_type": "code",
   "execution_count": 21,
   "metadata": {
    "collapsed": false
   },
   "outputs": [
    {
     "name": "stdout",
     "output_type": "stream",
     "text": [
      "Yes\n",
      "5\n",
      "2\n"
     ]
    }
   ],
   "source": [
    "a,b,c,d,e,f,g,h = range(8)\n",
    "N = [\n",
    "    {b:2, c:1, d:3, e:9, f:4},\n",
    "    {c:4, e:3},\n",
    "    {d:8},\n",
    "    {e:7},\n",
    "    {f:5},\n",
    "    {c:2, g:2, h:2},\n",
    "    {f:1, h:6},\n",
    "    {f:9, g:8}\n",
    "]\n",
    "if b in N[a]:\n",
    "    print \"Yes\"\n",
    "print len(N[a])\n",
    "print N[a][b]"
   ]
  },
  {
   "cell_type": "code",
   "execution_count": 25,
   "metadata": {
    "collapsed": false
   },
   "outputs": [
    {
     "name": "stdout",
     "output_type": "stream",
     "text": [
      "a\n"
     ]
    }
   ],
   "source": [
    "class Tree:\n",
    "    def __init__(self, left, right):\n",
    "        self.left = left\n",
    "        self.right = right\n",
    "t = Tree(Tree('a','b'),Tree('c','d'))\n",
    "print t.left.left"
   ]
  },
  {
   "cell_type": "code",
   "execution_count": 29,
   "metadata": {
    "collapsed": false
   },
   "outputs": [
    {
     "name": "stdout",
     "output_type": "stream",
     "text": [
      "set([1, 6])\n",
      "1\n",
      "set([6])\n",
      "6\n",
      "set([7])\n",
      "7\n",
      "set([4])\n",
      "4\n",
      "set([3])\n",
      "3\n",
      "set([])\n"
     ]
    },
    {
     "data": {
      "text/plain": [
       "{0, 2, 5}"
      ]
     },
     "execution_count": 29,
     "metadata": {},
     "output_type": "execute_result"
    }
   ],
   "source": [
    "import numpy as np\n",
    "m = [2, 2, 0, 5, 3, 5, 7, 4]\n",
    "a = set(range(len(m)))\n",
    "def brute_force(m,a):\n",
    "    if len(a)==1:\n",
    "        return a\n",
    "    b = set(m[i] for i in a)\n",
    "    c = a - b\n",
    "    print c\n",
    "    if c:\n",
    "        removed_ele=c.pop()\n",
    "        print removed_ele\n",
    "        a.remove(removed_ele)\n",
    "        return brute_force(m,a)\n",
    "    return a\n",
    "brute_force(m,a)"
   ]
  },
  {
   "cell_type": "code",
   "execution_count": 66,
   "metadata": {
    "collapsed": false
   },
   "outputs": [
    {
     "name": "stdout",
     "output_type": "stream",
     "text": [
      "[1, 6]\n",
      "[1, 0, 2, 1, 1, 2, 0, 0]\n",
      "[1, 7]\n",
      "[1, 0, 2, 1, 0, 2, 0, 0]\n",
      "[1, 4]\n",
      "[1, 0, 2, 0, 0, 2, 0, 0]\n",
      "[1, 3]\n",
      "[1, 0, 2, 0, 0, 1, 0, 0]\n",
      "[1]\n",
      "[1, 0, 1, 0, 0, 1, 0, 0]\n",
      "[]\n"
     ]
    }
   ],
   "source": [
    "m = [2, 2, 0, 5, 3, 5, 7, 4]\n",
    "a = set(range(len(m)))\n",
    "count = [m.count(i) for i in a]\n",
    "Q = [i for i in a if count[i]==0]\n",
    "print Q\n",
    "while Q:\n",
    "    i = Q.pop()\n",
    "    a.remove(i)\n",
    "    count[m[i]] -= 1\n",
    "    if(count[m[i]]==0):\n",
    "        Q.append(m[i])\n",
    "    print count\n",
    "    print Q"
   ]
  },
  {
   "cell_type": "code",
   "execution_count": 14,
   "metadata": {
    "collapsed": false
   },
   "outputs": [
    {
     "name": "stdout",
     "output_type": "stream",
     "text": [
      "set([2, 3, 4, 5])\n",
      "set([4, 5])\n",
      "set([5])\n",
      "set([5])\n"
     ]
    }
   ],
   "source": [
    "def celeb(G):\n",
    "    n = len(G)\n",
    "    persons = set(range(len(G[0])))\n",
    "    while persons:\n",
    "        if(len(persons)<=1):\n",
    "            break\n",
    "        u = persons.pop()\n",
    "        v = persons.pop()\n",
    "        if(G[u][v]==1 and G[v][u]==0):\n",
    "            persons.add(v)\n",
    "        if(G[v][u]==1 and G[u][v]==0):\n",
    "            persons.add(u)\n",
    "        print persons\n",
    "    print persons\n",
    "\n",
    "G = [[0, 0, 0, 0, 0, 0],\n",
    "     [0, 0, 1, 1, 0, 1],\n",
    "     [1, 0, 0, 1, 0, 0],\n",
    "     [0, 0, 1, 0, 1, 1],\n",
    "     [1, 0, 0, 0, 0, 1],\n",
    "     [0, 1, 0, 0, 0, 0]\n",
    "    ]\n",
    "celeb(G)"
   ]
  },
  {
   "cell_type": "code",
   "execution_count": 18,
   "metadata": {
    "collapsed": false
   },
   "outputs": [
    {
     "name": "stdout",
     "output_type": "stream",
     "text": [
      "0 2\n",
      "0 3\n",
      "0 4\n",
      "0 5\n",
      "0 6\n"
     ]
    },
    {
     "data": {
      "text/plain": [
       "0"
      ]
     },
     "execution_count": 18,
     "metadata": {},
     "output_type": "execute_result"
    }
   ],
   "source": [
    "def celeb(G):\n",
    "    n = len(G)\n",
    "    u, v = 0, 1\n",
    "    for c in range(2, n+1):\n",
    "        if G[u][v]:\n",
    "            u = c\n",
    "        else:\n",
    "            v = c\n",
    "        print u,v\n",
    "\n",
    "    if u == n: c = v\n",
    "    else: c = u\n",
    "    \n",
    "    for v in range(n):\n",
    "        if c == v: continue\n",
    "        if G[c][v]: break\n",
    "        if not G[v][c]: break\n",
    "    else:\n",
    "        return c\n",
    "    return 0\n",
    "\n",
    "G = [[0, 0, 0, 0, 0, 0],\n",
    "     [0, 0, 1, 1, 0, 1],\n",
    "     [1, 0, 0, 1, 0, 0],\n",
    "     [0, 0, 1, 0, 1, 1],\n",
    "     [1, 0, 0, 0, 0, 1],\n",
    "     [0, 1, 0, 0, 0, 0]\n",
    "    ]\n",
    "celeb(G)"
   ]
  },
  {
   "cell_type": "code",
   "execution_count": 96,
   "metadata": {
    "collapsed": false,
    "scrolled": true
   },
   "outputs": [
    {
     "name": "stdout",
     "output_type": "stream",
     "text": [
      "90\n",
      "109.789879231\n",
      "118.688346851\n",
      "124.360556547\n",
      "128.480606717\n",
      "131.687045704\n",
      "134.292363951\n",
      "136.473076035\n",
      "138.338679393\n"
     ]
    }
   ],
   "source": [
    "import math\n",
    "first_area = 3.0 / (7*16)\n",
    "# print first_area\n",
    "# math.degrees(math.atan(1))\n",
    "for i in range(1,10):\n",
    "    theta = 1.0/i\n",
    "    x1 = ((1 + theta) - ((2*theta)**0.5)) / (2 * (1 + theta**2))\n",
    "    y1 = theta * x\n",
    "#     print \"point (\",x1,\",\", y1, \")\"\n",
    "    slope = (y1 - 0.5) / (x1 - 0.5)\n",
    "#     print slope\n",
    "    if abs(slope)!=1:\n",
    "        slope_between_lines =  (2 * slope) / (1- slope **2)\n",
    "#         print slope_between_lines\n",
    "        angle = 180 - 2 * (90 - math.degrees(math.atan(slope)))  \n",
    "#         angle = math.degrees(math.atan(slope_between_lines))\n",
    "#         angle = (180 - angle) if angle < 0 else angle\n",
    "    else:\n",
    "        angle = 90\n",
    "    print angle"
   ]
  }
 ],
 "metadata": {
  "kernelspec": {
   "display_name": "Python 2",
   "language": "python",
   "name": "python2"
  },
  "language_info": {
   "codemirror_mode": {
    "name": "ipython",
    "version": 2
   },
   "file_extension": ".py",
   "mimetype": "text/x-python",
   "name": "python",
   "nbconvert_exporter": "python",
   "pygments_lexer": "ipython2",
   "version": "2.7.13"
  }
 },
 "nbformat": 4,
 "nbformat_minor": 0
}
